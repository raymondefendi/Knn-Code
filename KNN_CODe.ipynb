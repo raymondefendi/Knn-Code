{
  "nbformat": 4,
  "nbformat_minor": 0,
  "metadata": {
    "colab": {
      "name": "UAS_ML_KNN_RAYMOOND.ipynb",
      "provenance": [],
      "collapsed_sections": []
    },
    "kernelspec": {
      "name": "python3",
      "display_name": "Python 3"
    },
    "language_info": {
      "name": "python"
    }
  },
  "cells": [
    {
      "cell_type": "markdown",
      "metadata": {
        "id": "QPJpkwbRK5NC"
      },
      "source": [
        "**Raymoond-2301872381**"
      ]
    },
    {
      "cell_type": "code",
      "metadata": {
        "id": "-W4XoayIaSun"
      },
      "source": [
        "import pandas as pd\n",
        "import numpy as np\n",
        "from sklearn.metrics import accuracy_score\n",
        "from sklearn.preprocessing import StandardScaler\n",
        "from math import sqrt"
      ],
      "execution_count": null,
      "outputs": []
    },
    {
      "cell_type": "markdown",
      "metadata": {
        "id": "wJMtS7w4K47I"
      },
      "source": [
        "Import Esential neeed function and library\n",
        "\n"
      ]
    },
    {
      "cell_type": "code",
      "metadata": {
        "id": "5edhGC30ZdVn"
      },
      "source": [
        "def euclidean_distance(row1, row2):\n",
        "\tdistance = 0.0\n",
        "\tfor i in range(len(row1)-1):\n",
        "\t\tdistance += (row1[i] - row2[i])**2\n",
        "\treturn sqrt(distance)"
      ],
      "execution_count": null,
      "outputs": []
    },
    {
      "cell_type": "markdown",
      "metadata": {
        "id": "I_qO4D1yLDPc"
      },
      "source": [
        "Disini mengukur eyclidean distace antara 2 vektor row 1 dan row 2"
      ]
    },
    {
      "cell_type": "code",
      "metadata": {
        "id": "hxRQhQWXLLdw"
      },
      "source": [
        "def get_neighbors(train, test_row, num_neighbors):\n",
        "\tdistances = list()\n",
        "\tfor train_row in train:\n",
        "\t\tdist = euclidean_distance(test_row, train_row)\n",
        "\t\tdistances.append((train_row, dist))\n",
        "\tdistances.sort(key=lambda tup: tup[1])\n",
        "\tneighbors = list()\n",
        "\tfor i in range(num_neighbors):\n",
        "\t\tneighbors.append(distances[i][0])\n",
        "\treturn neighbors"
      ],
      "execution_count": null,
      "outputs": []
    },
    {
      "cell_type": "markdown",
      "metadata": {
        "id": "kCKgDol5LL9A"
      },
      "source": [
        "Disini mengukur neigbors yang mempuyai kemiripan"
      ]
    },
    {
      "cell_type": "code",
      "metadata": {
        "id": "_PgFIcPjLMPp"
      },
      "source": [
        "# Make a classification prediction with neighbors\n",
        "def predict_classification(train, test_row, num_neighbors):\n",
        "\tneighbors = get_neighbors(train, test_row, num_neighbors)\n",
        "\toutput_values = [row[-1] for row in neighbors]\n",
        "\tprediction = max(set(output_values), key=output_values.count)\n",
        "\treturn prediction"
      ],
      "execution_count": null,
      "outputs": []
    },
    {
      "cell_type": "markdown",
      "metadata": {
        "id": "XtJD7q-2LfxK"
      },
      "source": [
        "Membuat klasifikasi dengan neighbors yang mirip"
      ]
    },
    {
      "cell_type": "code",
      "metadata": {
        "id": "yOYcW5esZi8L"
      },
      "source": [
        "train  = {'ID'  : [1, 2, 3, 4],'d1'  : [1.1, 1.4, 1, 20],\n",
        "                               'd2'  : [100, 1.4, 1, 20],\n",
        "                               'd3'  : [1.2, 1.4, 1, 20],\n",
        "                               'd4'  : [1.6, 1.5, 1, 20],\n",
        "                               'd5'  : [1.6, 100, 1, 20],\n",
        "                               'd6'  : [1.1, 1.4, 1, 20],\n",
        "                               'd7'  : [1.2, 1.2, 2, 20],\n",
        "                               'd8'  : [1.2, 1.2, 100, 20],\n",
        "                               'd9'  : [1, 1, 2, 20],\n",
        "                               'd10' : [1, 1, 2, 20]\n",
        "        }"
      ],
      "execution_count": null,
      "outputs": []
    },
    {
      "cell_type": "code",
      "metadata": {
        "id": "YoCK-cqjaL3o"
      },
      "source": [
        "data = pd.DataFrame.from_dict(train)"
      ],
      "execution_count": null,
      "outputs": []
    },
    {
      "cell_type": "code",
      "metadata": {
        "colab": {
          "base_uri": "https://localhost:8080/",
          "height": 173
        },
        "id": "pIFcfhHWawZb",
        "outputId": "85cea9ad-ff37-4c23-a824-d9f6f34ff13a"
      },
      "source": [
        "data"
      ],
      "execution_count": null,
      "outputs": [
        {
          "output_type": "execute_result",
          "data": {
            "text/html": [
              "<div>\n",
              "<style scoped>\n",
              "    .dataframe tbody tr th:only-of-type {\n",
              "        vertical-align: middle;\n",
              "    }\n",
              "\n",
              "    .dataframe tbody tr th {\n",
              "        vertical-align: top;\n",
              "    }\n",
              "\n",
              "    .dataframe thead th {\n",
              "        text-align: right;\n",
              "    }\n",
              "</style>\n",
              "<table border=\"1\" class=\"dataframe\">\n",
              "  <thead>\n",
              "    <tr style=\"text-align: right;\">\n",
              "      <th></th>\n",
              "      <th>ID</th>\n",
              "      <th>d1</th>\n",
              "      <th>d2</th>\n",
              "      <th>d3</th>\n",
              "      <th>d4</th>\n",
              "      <th>d5</th>\n",
              "      <th>d6</th>\n",
              "      <th>d7</th>\n",
              "      <th>d8</th>\n",
              "      <th>d9</th>\n",
              "      <th>d10</th>\n",
              "    </tr>\n",
              "  </thead>\n",
              "  <tbody>\n",
              "    <tr>\n",
              "      <th>0</th>\n",
              "      <td>1</td>\n",
              "      <td>1.1</td>\n",
              "      <td>100.0</td>\n",
              "      <td>1.2</td>\n",
              "      <td>1.6</td>\n",
              "      <td>1.6</td>\n",
              "      <td>1.1</td>\n",
              "      <td>1.2</td>\n",
              "      <td>1.2</td>\n",
              "      <td>1</td>\n",
              "      <td>1</td>\n",
              "    </tr>\n",
              "    <tr>\n",
              "      <th>1</th>\n",
              "      <td>2</td>\n",
              "      <td>1.4</td>\n",
              "      <td>1.4</td>\n",
              "      <td>1.4</td>\n",
              "      <td>1.5</td>\n",
              "      <td>100.0</td>\n",
              "      <td>1.4</td>\n",
              "      <td>1.2</td>\n",
              "      <td>1.2</td>\n",
              "      <td>1</td>\n",
              "      <td>1</td>\n",
              "    </tr>\n",
              "    <tr>\n",
              "      <th>2</th>\n",
              "      <td>3</td>\n",
              "      <td>1.0</td>\n",
              "      <td>1.0</td>\n",
              "      <td>1.0</td>\n",
              "      <td>1.0</td>\n",
              "      <td>1.0</td>\n",
              "      <td>1.0</td>\n",
              "      <td>2.0</td>\n",
              "      <td>100.0</td>\n",
              "      <td>2</td>\n",
              "      <td>2</td>\n",
              "    </tr>\n",
              "    <tr>\n",
              "      <th>3</th>\n",
              "      <td>4</td>\n",
              "      <td>20.0</td>\n",
              "      <td>20.0</td>\n",
              "      <td>20.0</td>\n",
              "      <td>20.0</td>\n",
              "      <td>20.0</td>\n",
              "      <td>20.0</td>\n",
              "      <td>20.0</td>\n",
              "      <td>20.0</td>\n",
              "      <td>20</td>\n",
              "      <td>20</td>\n",
              "    </tr>\n",
              "  </tbody>\n",
              "</table>\n",
              "</div>"
            ],
            "text/plain": [
              "   ID    d1     d2    d3    d4     d5    d6    d7     d8  d9  d10\n",
              "0   1   1.1  100.0   1.2   1.6    1.6   1.1   1.2    1.2   1    1\n",
              "1   2   1.4    1.4   1.4   1.5  100.0   1.4   1.2    1.2   1    1\n",
              "2   3   1.0    1.0   1.0   1.0    1.0   1.0   2.0  100.0   2    2\n",
              "3   4  20.0   20.0  20.0  20.0   20.0  20.0  20.0   20.0  20   20"
            ]
          },
          "metadata": {
            "tags": []
          },
          "execution_count": 7
        }
      ]
    },
    {
      "cell_type": "code",
      "metadata": {
        "id": "PfU-aCWDaxvt"
      },
      "source": [
        "x_train = np.asarray(data.drop(\"ID\",axis=1))\n",
        "y_train = np.asarray(data['ID'])"
      ],
      "execution_count": null,
      "outputs": []
    },
    {
      "cell_type": "markdown",
      "metadata": {
        "id": "q-MHwEkFL9mH"
      },
      "source": [
        "Membagi daa menjadi Feature dan label dengan x_train dan y_train,disini fitur adalah kolom selain ID dan label adalah kolom ID"
      ]
    },
    {
      "cell_type": "code",
      "metadata": {
        "colab": {
          "base_uri": "https://localhost:8080/"
        },
        "id": "KDVL0ovTbJZS",
        "outputId": "faacea29-d557-4980-fc7d-e4bf31a15e8c"
      },
      "source": [
        " testing_data = (1,1,1,1,1,1,1,1,1,1)\n",
        " Predict = predict_classification(x_train,testing_data,4)\n",
        " Predict"
      ],
      "execution_count": null,
      "outputs": [
        {
          "output_type": "execute_result",
          "data": {
            "text/plain": [
              "1.0"
            ]
          },
          "metadata": {
            "tags": []
          },
          "execution_count": 11
        }
      ]
    },
    {
      "cell_type": "markdown",
      "metadata": {
        "id": "6HD--FkpMMWM"
      },
      "source": [
        "Mencoba memprediksi data dari testing data yang diberikan soal hasilnya 1 yaitu sama karena neighboornya memiliki nilai yang sama"
      ]
    },
    {
      "cell_type": "code",
      "metadata": {
        "colab": {
          "base_uri": "https://localhost:8080/"
        },
        "id": "P7X5F9WWdHp4",
        "outputId": "7c094253-c354-4d89-c2ac-cfc9bd757e57"
      },
      "source": [
        "for i in range (4):\n",
        "  b = euclidean_distance(testing_data,x_train[i])\n",
        "  print(b)"
      ],
      "execution_count": null,
      "outputs": [
        {
          "output_type": "stream",
          "text": [
            "99.00434333906773\n",
            "99.00489886869235\n",
            "99.0101004948485\n",
            "57.0\n"
          ],
          "name": "stdout"
        }
      ]
    },
    {
      "cell_type": "markdown",
      "metadata": {
        "id": "ozeavgKlMUSB"
      },
      "source": [
        "Disini mencari eucladian distace dari testing data yang diberikan tadi dan menghasilnan 4 range euclidean distace"
      ]
    }
  ]
}